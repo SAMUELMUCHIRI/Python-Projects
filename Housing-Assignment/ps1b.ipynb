{
 "cells": [
  {
   "cell_type": "code",
   "execution_count": 5,
   "id": "8c650d3f",
   "metadata": {},
   "outputs": [
    {
     "name": "stdout",
     "output_type": "stream",
     "text": [
      "Enter your annual salary: 120000\n",
      "Enter the portion of your salary to be saved: 0.05\n",
      "Enter the cost of your dream home: 500000\n",
      "Enter the semi-annual salary raise: 0.03\n",
      "Number of months: 142\n"
     ]
    }
   ],
   "source": [
    "'''\n",
    "first we are requesting input from the user \n",
    "\n",
    "'''\n",
    "annual_salary = float(input('Enter your annual salary: '))\n",
    "portion_saved = float(input('Enter the portion of your salary to be saved: '))\n",
    "total_cost = float(input('Enter the cost of your dream home: '))\n",
    "semi_annual_raise = float(input('Enter the semi-annual salary raise: '))\n",
    "\n",
    "#initializing variables and constants \n",
    "months = 0\n",
    "current_savings = 0\n",
    "r = 0.04\n",
    "# Calculate amount needed for down payment\n",
    "portion_down_payment = 0.25 * total_cost\n",
    "#calculate the monthly savings\n",
    "monthly_salary = annual_salary / 12\n",
    "\n",
    "while current_savings < portion_down_payment:\n",
    "    current_savings += current_savings * r / 12\n",
    "    current_savings += monthly_salary * portion_saved\n",
    "    months += 1\n",
    "    if months % 6 == 0:\n",
    "        monthly_salary += semi_annual_raise * monthly_salary\n",
    "\n",
    "print('Number of months:', months)"
   ]
  },
  {
   "cell_type": "code",
   "execution_count": 6,
   "id": "68f8976a",
   "metadata": {},
   "outputs": [
    {
     "name": "stdout",
     "output_type": "stream",
     "text": [
      "Enter your annual salary: 80000\n",
      "Enter the portion of your salary to be saved: 0.1\n",
      "Enter the cost of your dream home: 800000\n",
      "Enter the semi-annual salary raise: 0.03\n",
      "Number of months: 159\n"
     ]
    }
   ],
   "source": [
    "'''\n",
    "first we are requesting input from the user \n",
    "\n",
    "'''\n",
    "annual_salary = float(input('Enter your annual salary: '))\n",
    "portion_saved = float(input('Enter the portion of your salary to be saved: '))\n",
    "total_cost = float(input('Enter the cost of your dream home: '))\n",
    "semi_annual_raise = float(input('Enter the semi-annual salary raise: '))\n",
    "\n",
    "#initializing variables and constants \n",
    "months = 0\n",
    "current_savings = 0\n",
    "r = 0.04\n",
    "# Calculate amount needed for down payment\n",
    "portion_down_payment = 0.25 * total_cost\n",
    "#calculate the monthly savings\n",
    "monthly_salary = annual_salary / 12\n",
    "\n",
    "while current_savings < portion_down_payment:\n",
    "    current_savings += current_savings * r / 12\n",
    "    current_savings += monthly_salary * portion_saved\n",
    "    months += 1\n",
    "    if months % 6 == 0:\n",
    "        monthly_salary += semi_annual_raise * monthly_salary\n",
    "\n",
    "print('Number of months:', months)"
   ]
  },
  {
   "cell_type": "code",
   "execution_count": 7,
   "id": "417001e5",
   "metadata": {},
   "outputs": [
    {
     "name": "stdout",
     "output_type": "stream",
     "text": [
      "Enter your annual salary: 75000\n",
      "Enter the portion of your salary to be saved: 0.05\n",
      "Enter the cost of your dream home: 1500000\n",
      "Enter the semi-annual salary raise: 0.05\n",
      "Number of months: 261\n"
     ]
    }
   ],
   "source": [
    "'''\n",
    "first we are requesting input from the user \n",
    "\n",
    "'''\n",
    "annual_salary = float(input('Enter your annual salary: '))\n",
    "portion_saved = float(input('Enter the portion of your salary to be saved: '))\n",
    "total_cost = float(input('Enter the cost of your dream home: '))\n",
    "semi_annual_raise = float(input('Enter the semi-annual salary raise: '))\n",
    "\n",
    "#initializing variables and constants \n",
    "months = 0\n",
    "current_savings = 0\n",
    "r = 0.04\n",
    "# Calculate amount needed for down payment\n",
    "portion_down_payment = 0.25 * total_cost\n",
    "#calculate the monthly savings\n",
    "monthly_salary = annual_salary / 12\n",
    "\n",
    "while current_savings < portion_down_payment:\n",
    "    current_savings += current_savings * r / 12\n",
    "    current_savings += monthly_salary * portion_saved\n",
    "    months += 1\n",
    "    if months % 6 == 0:\n",
    "        monthly_salary += semi_annual_raise * monthly_salary\n",
    "\n",
    "print('Number of months:', months)"
   ]
  },
  {
   "cell_type": "code",
   "execution_count": null,
   "id": "9cf9ed8b",
   "metadata": {},
   "outputs": [],
   "source": []
  }
 ],
 "metadata": {
  "kernelspec": {
   "display_name": "Python 3 (ipykernel)",
   "language": "python",
   "name": "python3"
  },
  "language_info": {
   "codemirror_mode": {
    "name": "ipython",
    "version": 3
   },
   "file_extension": ".py",
   "mimetype": "text/x-python",
   "name": "python",
   "nbconvert_exporter": "python",
   "pygments_lexer": "ipython3",
   "version": "3.9.12"
  }
 },
 "nbformat": 4,
 "nbformat_minor": 5
}
