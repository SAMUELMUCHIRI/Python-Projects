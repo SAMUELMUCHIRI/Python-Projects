{
 "cells": [
  {
   "cell_type": "code",
   "execution_count": 2,
   "id": "5d42c61b",
   "metadata": {},
   "outputs": [
    {
     "name": "stdout",
     "output_type": "stream",
     "text": [
      "Enter your annual salary120000\n",
      "Enter the percent of your salary to save, as a decimal0.1\n",
      "Enter the cost of your dream home1000000\n",
      "Number of months 183\n"
     ]
    }
   ],
   "source": [
    "'''\n",
    "first we are requesting input from the user \n",
    "\n",
    "'''\n",
    "annual_salary=float(input(\"Enter your annual salary\"))\n",
    "t_portion_saved=float(input('Enter the percent of your salary to save, as a decimal'))\n",
    "total_cost=float(input(\"Enter the cost of your dream home\"))\n",
    "#initializing variables and constants \n",
    "rate = 0.04\n",
    "current_savings=0\n",
    "months=0\n",
    "# Calculate amount needed for down payment\n",
    "\n",
    "down_payment = 0.25*total_cost\n",
    "#calculate the monthly savings and portion saved based on annual salary\n",
    "monthly_salary=annual_salary/12\n",
    "portion_saved=monthly_salary*t_portion_saved\n",
    "'''\n",
    "number of months are incremented till the condition is fullfillled\n",
    "'''\n",
    "while current_savings<down_payment:\n",
    "    current_savings+=((current_savings*rate)/12)+portion_saved\n",
    "    months+=1\n",
    "    \n",
    "print(\"Number of months\",months)\n",
    "\n",
    "\n",
    "\n"
   ]
  },
  {
   "cell_type": "code",
   "execution_count": 4,
   "id": "440db1a9",
   "metadata": {},
   "outputs": [
    {
     "name": "stdout",
     "output_type": "stream",
     "text": [
      "Enter your annual salary80000\n",
      "Enter the percent of your salary to save, as a decimal0.15\n",
      "Enter the cost of your dream home500000\n",
      "Number of months 105\n"
     ]
    }
   ],
   "source": [
    "'''\n",
    "first we are requesting input from the user \n",
    "\n",
    "'''\n",
    "annual_salary=float(input(\"Enter your annual salary\"))\n",
    "t_portion_saved=float(input('Enter the percent of your salary to save, as a decimal'))\n",
    "total_cost=float(input(\"Enter the cost of your dream home\"))\n",
    "#initializing variables and constants \n",
    "rate = 0.04\n",
    "current_savings=0\n",
    "months=0\n",
    "# Calculate amount needed for down payment\n",
    "\n",
    "down_payment = 0.25*total_cost\n",
    "#calculate the monthly savings and portion saved based on annual salary\n",
    "monthly_salary=annual_salary/12\n",
    "portion_saved=monthly_salary*t_portion_saved\n",
    "'''\n",
    "number of months are incremented till the condition is fullfillled\n",
    "'''\n",
    "while current_savings<down_payment:\n",
    "    current_savings+=((current_savings*rate)/12)+portion_saved\n",
    "    months+=1\n",
    "    \n",
    "print(\"Number of months\",months)\n",
    "\n",
    "\n",
    "\n"
   ]
  },
  {
   "cell_type": "code",
   "execution_count": null,
   "id": "0540e0f9",
   "metadata": {},
   "outputs": [],
   "source": []
  }
 ],
 "metadata": {
  "kernelspec": {
   "display_name": "Python 3 (ipykernel)",
   "language": "python",
   "name": "python3"
  },
  "language_info": {
   "codemirror_mode": {
    "name": "ipython",
    "version": 3
   },
   "file_extension": ".py",
   "mimetype": "text/x-python",
   "name": "python",
   "nbconvert_exporter": "python",
   "pygments_lexer": "ipython3",
   "version": "3.9.12"
  }
 },
 "nbformat": 4,
 "nbformat_minor": 5
}
