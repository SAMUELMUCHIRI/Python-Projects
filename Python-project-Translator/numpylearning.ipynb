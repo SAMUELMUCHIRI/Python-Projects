{
 "cells": [
  {
   "cell_type": "markdown",
   "metadata": {},
   "source": [
    "# The Numpy Library\n",
    "## Introduction\n"
   ]
  },
  {
   "cell_type": "code",
   "execution_count": 1,
   "metadata": {},
   "outputs": [
    {
     "name": "stdout",
     "output_type": "stream",
     "text": [
      "[1 2 3]\n"
     ]
    }
   ],
   "source": [
    "import numpy as np\n",
    "a= np.array([1,2,3])\n",
    "print(a)"
   ]
  },
  {
   "cell_type": "markdown",
   "metadata": {},
   "source": [
    "- np.linspace(startingno,endingno,interval)\n",
    "- np.arange(staringno,finishno)\n",
    "- np.random.random((row,column)) #note its from the np.random library\n",
    "``` python\n",
    " '''Examples\n",
    "import numpy as np\n",
    " a = np.linspace(1,50, 10)\n",
    " b = arange(12,50)\n",
    " np.random.random((4,4))'''\n",
    "\n",
    "\n",
    "```"
   ]
  },
  {
   "cell_type": "code",
   "execution_count": 2,
   "metadata": {},
   "outputs": [
    {
     "name": "stdout",
     "output_type": "stream",
     "text": [
      "[17.         20.66666667 24.33333333 28.         31.66666667 35.33333333\n",
      " 39.         42.66666667 46.33333333 50.        ]\n",
      "[12 13 14 15 16 17 18 19 20 21 22 23 24 25 26 27 28 29 30 31 32 33 34 35\n",
      " 36 37 38 39 40 41 42 43 44 45 46 47 48 49]\n"
     ]
    },
    {
     "data": {
      "text/plain": [
       "array([ 34.        ,  41.33333333,  48.66666667,  56.        ,\n",
       "        63.33333333,  70.66666667,  78.        ,  85.33333333,\n",
       "        92.66666667, 100.        ])"
      ]
     },
     "execution_count": 2,
     "metadata": {},
     "output_type": "execute_result"
    }
   ],
   "source": [
    " # Examples\n",
    "import numpy as np\n",
    " a =np.linspace(17,50, 10)\n",
    " print(a)\n",
    " b= np.arange(12,50)\n",
    "print(b)\n",
    " np.random.random((4,4))\n",
    "a+2\n",
    "a-2\n",
    "a*2\n"
   ]
  },
  {
   "cell_type": "markdown",
   "metadata": {},
   "source": [
    "# Common functions\n",
    "- a.min()  to get the minimum value\n",
    "- a.max() to get max value in the array\n",
    "- a.mean() to get the mean value in the array \n",
    "- a.std() to get the standard deviation of values in the array \n",
    " # Matrix and Dot product functions\n",
    "\n",
    "- np.dot(nparray1 , nparrray2) same as writing nprray1.dot(nparray2)\n",
    "``` python\n",
    "# Increment & Decrement\n",
    "a = np.array([1,2,3],[4,5,6])\n",
    "a += 1 #Incrementing\n",
    "\n",
    "```\n",
    "\n",
    "# Indexing \n",
    "starts from 0\n",
    "use \n",
    "``` python\n",
    "\n",
    "array.flat # to get a linear array\n",
    "# used in cases of iterating \n",
    "one can use boolean\n",
    " ```\n",
    "\n"
   ]
  },
  {
   "cell_type": "code",
   "execution_count": 3,
   "metadata": {},
   "outputs": [
    {
     "name": "stdout",
     "output_type": "stream",
     "text": [
      "[[False False False False]\n",
      " [ True  True  True  True]\n",
      " [ True False False  True]]\n",
      "[[ True  True  True  True]\n",
      " [False False False False]\n",
      " [False  True  True False]]\n",
      "[[0.64520663 0.59081623 0.89253805 0.51546737]\n",
      " [0.07762695 0.07387389 0.19558541 0.09538583]\n",
      " [0.34296883 0.94072745 0.59881169 0.16044198]]\n",
      "[0.64520663 0.59081623 0.89253805 0.51546737 0.07762695 0.07387389\n",
      " 0.19558541 0.09538583 0.34296883 0.94072745 0.59881169 0.16044198]\n",
      "normall array\n",
      "[[0.64520663 0.59081623 0.89253805 0.51546737]\n",
      " [0.07762695 0.07387389 0.19558541 0.09538583]\n",
      " [0.34296883 0.94072745 0.59881169 0.16044198]]\n",
      "Transposed array\n",
      "[[0.64520663 0.07762695 0.34296883]\n",
      " [0.59081623 0.07387389 0.94072745]\n",
      " [0.89253805 0.19558541 0.59881169]\n",
      " [0.51546737 0.09538583 0.16044198]]\n"
     ]
    }
   ],
   "source": [
    "import numpy as np\n",
    "a =np.random.random((3,4))\n",
    "print(a < 0.5)\n",
    "print(0.5 <a)\n",
    "\n",
    "print(a)\n",
    "a = a.ravel() # used to reverse a shape operation\n",
    "print(a)\n",
    "a = a.reshape(3,4)\n",
    "print(\"normall array\")\n",
    "print(a)\n",
    "print(\"Transposed array\")\n",
    "print(a.transpose())# Perform the inversion of columns with rows \n"
   ]
  },
  {
   "cell_type": "markdown",
   "metadata": {},
   "source": [
    "# Array Manipulation \n",
    "1. Joining arrays\n",
    "- done using the vstack() function for vertical joining and hstack for horizontal joining \n",
    "``` python\n",
    "a = np.zeros((3,3))\n",
    "b = np.ones((3.3))\n",
    "np.vstack((a,b))\n",
    "np.hstack((a,b))\n",
    "\n",
    "```\n",
    "Or using colunm_stack() and row_stack() \n",
    "``` python\n",
    "\n",
    "a = np.array([0, 1, 2])\n",
    "b = np.array([3, 4, 5])\n",
    "c = np.array([6, 7, 8])\n",
    " np.column_stack((a, b, c))\n",
    "''' array([[0, 3, 6],\n",
    " [1, 4, 7],\n",
    " [2, 5, 8]])\n",
    "'''\n",
    " np.row_stack((a, b, c))\n",
    "''' array([[0, 1, 2],\n",
    " [3, 4, 5],\n",
    " [6, 7, 8]])\n",
    " '''\n",
    "\n",
    "```\n",
    "\n",
    "2. Splitting Arrays \n",
    "- done using functions such as hsplit(Array, howmanytimes) for horizontal split use vsplit for vertical\n",
    "\n",
    "``` python\n",
    "a = np.arange(16).reshape((4,4))\n",
    "[b,c]=vsplit(a ,2)\n",
    "#using the split() fxn\n",
    "\n",
    "[a,b,c] = np.split(Arraytobesplit,[1,3'''canbe anyshape'''],axis =1'''1 for column and 0 for row''')\n",
    "\n",
    "\n",
    "```"
   ]
  },
  {
   "cell_type": "code",
   "execution_count": 7,
   "metadata": {},
   "outputs": [
    {
     "name": "stdout",
     "output_type": "stream",
     "text": [
      "[1 2 3 4]\n",
      "[5 2 3 4]\n",
      "[5 2 3 4]\n",
      "[0 2 3 4]\n"
     ]
    }
   ],
   "source": [
    "a=np.array([1,2,3,4])\n",
    "b=a\n",
    "print(a)\n",
    "a[0]=5\n",
    "print(b)\n",
    "#assigning a  value to an array when original value is changed the subsequent values\n",
    "# but copy fxn changes this properties\n",
    "b = a.copy()\n",
    "a[0]=0\n",
    "print(b)\n",
    "print(a)\n"
   ]
  },
  {
   "cell_type": "markdown",
   "metadata": {},
   "source": [
    "# Vectorization \n",
    "- Property of the numpy lubrary to avoid exlicit declaration of basic functions to act on arrays \n",
    ">For example\n",
    "``` python\n",
    "a = np.array([1,2,3,4],[5,6,7,8])\n",
    "b = np.random.random([2,4])\n",
    "# Due to vectorization we can achieve a mtrix product ie \n",
    "c = a * b\n",
    " # in other programming languages in involves nested for loops as seen below.\n",
    "\n",
    "```\n",
    "\n",
    "``` cpp\n",
    "// This is in C++\n",
    "for(i = 0 ; i < rows ; i++)\n",
    "{\n",
    "    c[i] =a[i] * b[i];\n",
    "}\n",
    "\n",
    "```"
   ]
  },
  {
   "cell_type": "markdown",
   "metadata": {},
   "source": [
    "# Broadcasting \n",
    "- Property of numpy array that allows an operator to act on arrays that are not of same shape.But the arrays must meet certain rules  "
   ]
  },
  {
   "cell_type": "code",
   "execution_count": 9,
   "metadata": {},
   "outputs": [
    {
     "name": "stdout",
     "output_type": "stream",
     "text": [
      "[[ 0  1  2  3]\n",
      " [ 4  5  6  7]\n",
      " [ 8  9 10 11]\n",
      " [12 13 14 15]]\n",
      "[0 1 2 3]\n",
      "[[ 0  2  4  6]\n",
      " [ 4  6  8 10]\n",
      " [ 8 10 12 14]\n",
      " [12 14 16 18]]\n"
     ]
    }
   ],
   "source": [
    "a = np.arange(16).reshape(4,4)\n",
    "b=np.arange(4)\n",
    "print(a)\n",
    "print(b)\n",
    "print(a+b)\n",
    "# the arrays to add up the b array undergo extension this is known as broadcasting\n"
   ]
  },
  {
   "cell_type": "markdown",
   "metadata": {},
   "source": [
    "## Structured Arrays\n",
    "> Contain structs and Records instead of individual items"
   ]
  },
  {
   "cell_type": "code",
   "execution_count": 13,
   "metadata": {},
   "outputs": [
    {
     "name": "stdout",
     "output_type": "stream",
     "text": [
      "[(1, b'First', 0.5, 1.+2.j) (2, b'Second', 1.3, 2.-2.j)\n",
      " (2, b'Third', 0.8, 1.+3.j)]\n"
     ]
    }
   ],
   "source": [
    "structured = np.array([(1, 'First',0.5 ,1+2j),(2 ,'Second',1.3 ,2-2j),(2,'Third',0.8, 1+3j)],dtype=('i2,a6,f4,c8'))\n",
    "print(structured)"
   ]
  },
  {
   "cell_type": "code",
   "execution_count": 20,
   "metadata": {},
   "outputs": [
    {
     "name": "stdout",
     "output_type": "stream",
     "text": [
      "[[0.86466285 0.76943895 0.22678279]\n",
      " [0.12452825 0.54751384 0.06499123]\n",
      " [0.06216566 0.85045125 0.92093862]\n",
      " [0.58401239 0.93455057 0.28972379]]\n"
     ]
    }
   ],
   "source": [
    "data =np.array([[ 0.86466285, 0.76943895, 0.22678279],\n",
    " [ 0.12452825, 0.54751384, 0.06499123],\n",
    " [ 0.06216566, 0.85045125, 0.92093862],\n",
    " [ 0.58401239, 0.93455057, 0.28972379]])\n",
    "np.save('test',data)\n",
    "loaded_data = np.load('test.npy')\n",
    "print(loaded_data)"
   ]
  }
 ],
 "metadata": {
  "kernelspec": {
   "display_name": "base",
   "language": "python",
   "name": "python3"
  },
  "language_info": {
   "codemirror_mode": {
    "name": "ipython",
    "version": 3
   },
   "file_extension": ".py",
   "mimetype": "text/x-python",
   "name": "python",
   "nbconvert_exporter": "python",
   "pygments_lexer": "ipython3",
   "version": "3.11.5"
  }
 },
 "nbformat": 4,
 "nbformat_minor": 2
}
